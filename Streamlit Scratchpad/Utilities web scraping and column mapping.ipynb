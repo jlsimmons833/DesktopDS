{
 "cells": [
  {
   "cell_type": "code",
   "execution_count": 1,
   "metadata": {},
   "outputs": [
    {
     "name": "stdout",
     "output_type": "stream",
     "text": [
      "Requirement already satisfied: requests in c:\\users\\jlsim\\openailearning\\lib\\site-packages (2.31.0)\n",
      "Collecting beautifulsoup4\n",
      "  Using cached beautifulsoup4-4.12.2-py3-none-any.whl (142 kB)\n",
      "Requirement already satisfied: charset-normalizer<4,>=2 in c:\\users\\jlsim\\openailearning\\lib\\site-packages (from requests) (3.1.0)\n",
      "Requirement already satisfied: idna<4,>=2.5 in c:\\users\\jlsim\\openailearning\\lib\\site-packages (from requests) (3.4)\n",
      "Requirement already satisfied: urllib3<3,>=1.21.1 in c:\\users\\jlsim\\openailearning\\lib\\site-packages (from requests) (2.0.3)\n",
      "Requirement already satisfied: certifi>=2017.4.17 in c:\\users\\jlsim\\openailearning\\lib\\site-packages (from requests) (2023.5.7)\n",
      "Collecting soupsieve>1.2 (from beautifulsoup4)\n",
      "  Using cached soupsieve-2.4.1-py3-none-any.whl (36 kB)\n",
      "Installing collected packages: soupsieve, beautifulsoup4\n",
      "Successfully installed beautifulsoup4-4.12.2 soupsieve-2.4.1\n"
     ]
    },
    {
     "name": "stderr",
     "output_type": "stream",
     "text": [
      "\n",
      "[notice] A new release of pip is available: 23.1.2 -> 23.2.1\n",
      "[notice] To update, run: python.exe -m pip install --upgrade pip\n"
     ]
    }
   ],
   "source": [
    "!pip install requests beautifulsoup4"
   ]
  },
  {
   "cell_type": "code",
   "execution_count": null,
   "metadata": {},
   "outputs": [],
   "source": [
    "import requests\n",
    "from bs4 import BeautifulSoup\n",
    "\n",
    "# URL of the Python documentation page you want to pull\n",
    "url = 'https://docs.python.org/3/'\n",
    "\n",
    "# Send a GET request to the URL\n",
    "response = requests.get(url)\n",
    "\n",
    "# Check if the request was successful\n",
    "if response.status_code == 200:\n",
    "    # Parse the content using BeautifulSoup\n",
    "    soup = BeautifulSoup(response.content, 'html.parser')\n",
    "    \n",
    "    # Find all the text within the HTML content\n",
    "    text = soup.get_text()\n",
    "    \n",
    "    # Print the stripped text\n",
    "    print(text)\n",
    "else:\n",
    "    print(f\"Failed to retrieve the page. Status code: {response.status_code}\")\n"
   ]
  },
  {
   "cell_type": "code",
   "execution_count": 8,
   "metadata": {},
   "outputs": [
    {
     "name": "stdout",
     "output_type": "stream",
     "text": [
      "Common columns found:\n",
      "product_id is a potential relationship with 100.00% confidence.\n"
     ]
    },
    {
     "name": "stderr",
     "output_type": "stream",
     "text": [
      "C:\\Users\\jlsim\\AppData\\Local\\Temp\\ipykernel_9008\\972671989.py:22: FutureWarning: iteritems is deprecated and will be removed in a future version. Use .items instead.\n",
      "  for index, value1 in table1_data[column].iteritems():\n"
     ]
    }
   ],
   "source": [
    "import csv\n",
    "import pandas as pd\n",
    "\n",
    "def determine_relationships(table1_path, table2_path, confidence_threshold):\n",
    "    # Read data from the first table\n",
    "    table1_data = pd.read_csv(table1_path)\n",
    "    \n",
    "    # Read data from the second table\n",
    "    table2_data = pd.read_csv(table2_path)\n",
    "    \n",
    "    # Find common columns between the two tables\n",
    "    common_columns = set(table1_data.columns) & set(table2_data.columns)\n",
    "    \n",
    "    if len(common_columns) == 0:\n",
    "        print(\"No common columns found between the two tables.\")\n",
    "    else:\n",
    "        print(\"Common columns found:\")\n",
    "        for column in common_columns:\n",
    "            matches = 0\n",
    "            total_rows = len(table1_data)\n",
    "            \n",
    "            for index, value1 in table1_data[column].iteritems():\n",
    "                value2 = table2_data.at[index, column]\n",
    "                if value1 == value2:\n",
    "                    matches += 1\n",
    "            \n",
    "            confidence = (matches / total_rows) * 100\n",
    "            \n",
    "            if confidence >= confidence_threshold:\n",
    "                print(f\"{column} is a potential relationship with {confidence:.2f}% confidence.\")\n",
    "\n",
    "# Provide the paths to your CSV files and the desired confidence threshold\n",
    "table1_path = 'multi_table_product.csv'\n",
    "table2_path = 'multi_table_train.csv'\n",
    "confidence_threshold = 80  # Specify your desired confidence level here\n",
    "\n",
    "determine_relationships(table1_path, table2_path, confidence_threshold)\n"
   ]
  },
  {
   "cell_type": "code",
   "execution_count": null,
   "metadata": {},
   "outputs": [],
   "source": []
  }
 ],
 "metadata": {
  "kernelspec": {
   "display_name": "openailearning",
   "language": "python",
   "name": "python3"
  },
  "language_info": {
   "codemirror_mode": {
    "name": "ipython",
    "version": 3
   },
   "file_extension": ".py",
   "mimetype": "text/x-python",
   "name": "python",
   "nbconvert_exporter": "python",
   "pygments_lexer": "ipython3",
   "version": "3.11.0"
  },
  "orig_nbformat": 4
 },
 "nbformat": 4,
 "nbformat_minor": 2
}
